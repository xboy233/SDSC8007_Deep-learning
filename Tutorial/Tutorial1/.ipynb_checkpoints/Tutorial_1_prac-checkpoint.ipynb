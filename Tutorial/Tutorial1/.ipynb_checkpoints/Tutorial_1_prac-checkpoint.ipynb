{
 "cells": [
  {
   "cell_type": "markdown",
   "id": "a39649e6-4006-486e-98bd-9701a28e327c",
   "metadata": {},
   "source": [
    "# 2. Data Manipulation"
   ]
  },
  {
   "cell_type": "markdown",
   "id": "55e1d89e-f5d3-4b0c-b9a3-7a994f5a7bf5",
   "metadata": {},
   "source": [
    "## 2.1 Getting Started"
   ]
  },
  {
   "cell_type": "code",
   "execution_count": 1,
   "id": "691cb0e7-5f3c-4bcf-bb84-2b7a18e3e0d4",
   "metadata": {},
   "outputs": [],
   "source": [
    "import torch"
   ]
  },
  {
   "cell_type": "code",
   "execution_count": 2,
   "id": "935bef9a-89d3-4663-a71f-fb106cccf7ff",
   "metadata": {},
   "outputs": [
    {
     "data": {
      "text/plain": [
       "tensor([ 0.,  1.,  2.,  3.,  4.,  5.,  6.,  7.,  8.,  9., 10., 11., 12., 13.,\n",
       "        14.])"
      ]
     },
     "execution_count": 2,
     "metadata": {},
     "output_type": "execute_result"
    }
   ],
   "source": [
    "# create a vector from 0 to 12, including the first 0 but not including the last\n",
    "x = torch.arange(15, dtype=torch.float32)\n",
    "x"
   ]
  },
  {
   "cell_type": "code",
   "execution_count": 3,
   "id": "2ea0d92a-a5bb-458d-83af-e9eb629571a9",
   "metadata": {},
   "outputs": [
    {
     "data": {
      "text/plain": [
       "torch.Size([15])"
      ]
     },
     "execution_count": 3,
     "metadata": {},
     "output_type": "execute_result"
    }
   ],
   "source": [
    "# return vector shape\n",
    "x.shape"
   ]
  },
  {
   "cell_type": "code",
   "execution_count": 4,
   "id": "051f994d-fa24-4f08-bbe4-1026bf73e9d0",
   "metadata": {},
   "outputs": [
    {
     "data": {
      "text/plain": [
       "15"
      ]
     },
     "execution_count": 4,
     "metadata": {},
     "output_type": "execute_result"
    }
   ],
   "source": [
    "# return the total number of elements in x\n",
    "x.numel()"
   ]
  },
  {
   "cell_type": "code",
   "execution_count": 5,
   "id": "e3a8a372-8f31-4327-93cd-885d56f5b0a4",
   "metadata": {},
   "outputs": [
    {
     "data": {
      "text/plain": [
       "tensor([[ 0.,  1.,  2.,  3.,  4.],\n",
       "        [ 5.,  6.,  7.,  8.,  9.],\n",
       "        [10., 11., 12., 13., 14.]])"
      ]
     },
     "execution_count": 5,
     "metadata": {},
     "output_type": "execute_result"
    }
   ],
   "source": [
    "# reshape x into the given format (3 row 4 column)\n",
    "X = x.reshape(3, 5)\n",
    "X"
   ]
  },
  {
   "cell_type": "code",
   "execution_count": 6,
   "id": "ac7eb17f-1b53-4a7c-a538-eaf39244433f",
   "metadata": {},
   "outputs": [
    {
     "data": {
      "text/plain": [
       "tensor([[[0., 0., 0., 0.],\n",
       "         [0., 0., 0., 0.],\n",
       "         [0., 0., 0., 0.]],\n",
       "\n",
       "        [[0., 0., 0., 0.],\n",
       "         [0., 0., 0., 0.],\n",
       "         [0., 0., 0., 0.]]])"
      ]
     },
     "execution_count": 6,
     "metadata": {},
     "output_type": "execute_result"
    }
   ],
   "source": [
    "# tensor is a data format created by pytorch, it could be a value/vector/matrix\n",
    "# create a matrix with element 0\n",
    "torch.zeros((2, 3, 4))"
   ]
  },
  {
   "cell_type": "code",
   "execution_count": 7,
   "id": "1777e044-e8ce-4280-9cc7-6d65abe18e26",
   "metadata": {},
   "outputs": [
    {
     "data": {
      "text/plain": [
       "tensor([[[1., 1., 1., 1.],\n",
       "         [1., 1., 1., 1.],\n",
       "         [1., 1., 1., 1.]],\n",
       "\n",
       "        [[1., 1., 1., 1.],\n",
       "         [1., 1., 1., 1.],\n",
       "         [1., 1., 1., 1.]]])"
      ]
     },
     "execution_count": 7,
     "metadata": {},
     "output_type": "execute_result"
    }
   ],
   "source": [
    "# create a matrix with element 1\n",
    "torch.ones((2, 3, 4))"
   ]
  },
  {
   "cell_type": "markdown",
   "id": "c4cb6fbc-f926-4a02-8a78-71af1f6ce1e2",
   "metadata": {},
   "source": [
    "# 2.2 Operations"
   ]
  },
  {
   "cell_type": "code",
   "execution_count": 8,
   "id": "2ec271de-cb80-42ec-825d-5de12268a010",
   "metadata": {},
   "outputs": [
    {
     "data": {
      "text/plain": [
       "(tensor([ 3.,  4.,  6., 10.]),\n",
       " tensor([-1.,  0.,  2.,  6.]),\n",
       " tensor([ 2.,  4.,  8., 16.]),\n",
       " tensor([0.5000, 1.0000, 2.0000, 4.0000]),\n",
       " tensor([ 1.,  4., 16., 64.]))"
      ]
     },
     "execution_count": 8,
     "metadata": {},
     "output_type": "execute_result"
    }
   ],
   "source": [
    "x = torch.tensor([1.0, 2, 4, 8])\n",
    "y = torch.tensor([2, 2, 2, 2])\n",
    "# element-wise plus, minus, multiply, divide, power\n",
    "x + y, x - y, x * y, x / y, x ** y # The ** operator is exponentiation"
   ]
  },
  {
   "cell_type": "code",
   "execution_count": 9,
   "id": "b976038b-8832-40ea-a60a-c21472fb6fd6",
   "metadata": {},
   "outputs": [
    {
     "data": {
      "text/plain": [
       "tensor([2.7183e+00, 7.3891e+00, 5.4598e+01, 2.9810e+03])"
      ]
     },
     "execution_count": 9,
     "metadata": {},
     "output_type": "execute_result"
    }
   ],
   "source": [
    "# exponentiation\n",
    "torch.exp(x)"
   ]
  },
  {
   "cell_type": "code",
   "execution_count": 10,
   "id": "b0f65b58-25ad-4950-bf49-d50b6ee12bb2",
   "metadata": {},
   "outputs": [
    {
     "data": {
      "text/plain": [
       "tensor([[ 0.,  1.,  2.,  3.],\n",
       "        [ 4.,  5.,  6.,  7.],\n",
       "        [ 8.,  9., 10., 11.],\n",
       "        [ 2.,  1.,  4.,  3.],\n",
       "        [ 1.,  2.,  3.,  4.],\n",
       "        [ 4.,  3.,  2.,  1.]])"
      ]
     },
     "execution_count": 10,
     "metadata": {},
     "output_type": "execute_result"
    }
   ],
   "source": [
    "X = torch.arange(12, dtype=torch.float32).reshape((3,4))\n",
    "Y = torch.tensor([[2.0, 1, 4, 3], [1, 2, 3, 4], [4, 3, 2, 1]])\n",
    "# concatenation along dimension 0 \n",
    "torch.cat((X, Y), dim=0)"
   ]
  },
  {
   "cell_type": "code",
   "execution_count": 11,
   "id": "f2e0e051-2fc2-41f9-ae9f-5a968626eeba",
   "metadata": {},
   "outputs": [
    {
     "data": {
      "text/plain": [
       "tensor([[ 0.,  1.,  2.,  3.,  2.,  1.,  4.,  3.],\n",
       "        [ 4.,  5.,  6.,  7.,  1.,  2.,  3.,  4.],\n",
       "        [ 8.,  9., 10., 11.,  4.,  3.,  2.,  1.]])"
      ]
     },
     "execution_count": 11,
     "metadata": {},
     "output_type": "execute_result"
    }
   ],
   "source": [
    "# concatenation along dimension 1\n",
    "torch.cat((X,Y), dim=1)"
   ]
  },
  {
   "cell_type": "code",
   "execution_count": 12,
   "id": "75f0b1d3-ee30-48fa-9b69-7c8b6ca163d6",
   "metadata": {},
   "outputs": [
    {
     "data": {
      "text/plain": [
       "tensor([[False,  True, False,  True],\n",
       "        [False, False, False, False],\n",
       "        [False, False, False, False]])"
      ]
     },
     "execution_count": 12,
     "metadata": {},
     "output_type": "execute_result"
    }
   ],
   "source": [
    "# element-wise logic\n",
    "X == Y"
   ]
  },
  {
   "cell_type": "code",
   "execution_count": 13,
   "id": "31cfc82a-17cb-403e-9730-7be55018de19",
   "metadata": {},
   "outputs": [
    {
     "data": {
      "text/plain": [
       "tensor(66.)"
      ]
     },
     "execution_count": 13,
     "metadata": {},
     "output_type": "execute_result"
    }
   ],
   "source": [
    "# the sum of all the elements\n",
    "X.sum()"
   ]
  },
  {
   "cell_type": "markdown",
   "id": "a021c2da-b023-4a73-bdcc-95c2d4a388e4",
   "metadata": {},
   "source": [
    "## 2.3 Broadcasting Mechanism"
   ]
  },
  {
   "cell_type": "code",
   "execution_count": 14,
   "id": "facbe292-d4da-43c0-83f6-39a7f516f6d3",
   "metadata": {
    "scrolled": true
   },
   "outputs": [
    {
     "data": {
      "text/plain": [
       "(tensor([[0],\n",
       "         [1],\n",
       "         [2]]),\n",
       " tensor([[0, 1]]))"
      ]
     },
     "execution_count": 14,
     "metadata": {},
     "output_type": "execute_result"
    }
   ],
   "source": [
    "# Some functions can be used even if two variables have different shapes \n",
    "a = torch.arange(3).reshape((3, 1))\n",
    "b = torch.arange(2).reshape((1, 2))\n",
    "a, b"
   ]
  },
  {
   "cell_type": "code",
   "execution_count": 15,
   "id": "9b741985-a5c4-446d-bbda-e082584e46f6",
   "metadata": {},
   "outputs": [
    {
     "data": {
      "text/plain": [
       "tensor([[0, 1],\n",
       "        [1, 2],\n",
       "        [2, 3]])"
      ]
     },
     "execution_count": 15,
     "metadata": {},
     "output_type": "execute_result"
    }
   ],
   "source": [
    "# Automatically expand the their size and then compute output\n",
    "a + b"
   ]
  },
  {
   "cell_type": "markdown",
   "id": "2811cc14-80cb-4179-9b70-8262098611cc",
   "metadata": {},
   "source": [
    "## 2.4 Indexing and Slicing"
   ]
  },
  {
   "cell_type": "code",
   "execution_count": 19,
   "id": "a77c74ce-52dc-4c7f-a87e-c81d800ce163",
   "metadata": {},
   "outputs": [
    {
     "data": {
      "text/plain": [
       "(tensor([[ 0.,  1.,  2.,  3.],\n",
       "         [ 4.,  5.,  6.,  7.],\n",
       "         [ 8.,  9., 10., 11.]]),\n",
       " tensor([ 8.,  9., 10., 11.]),\n",
       " tensor([[ 4.,  5.,  6.,  7.],\n",
       "         [ 8.,  9., 10., 11.]]))"
      ]
     },
     "execution_count": 19,
     "metadata": {},
     "output_type": "execute_result"
    }
   ],
   "source": [
    "# obtain value/slice of a tensor\n",
    "# Note: contain the start value, don't contain the end value\n",
    "# Minus one is the last one\n",
    "X, X[-1], X[1:3]"
   ]
  },
  {
   "cell_type": "code",
   "execution_count": 20,
   "id": "eceaceca-7240-456f-95e9-2bf6974ae4eb",
   "metadata": {},
   "outputs": [
    {
     "data": {
      "text/plain": [
       "tensor([[ 0.,  1.,  2.,  3.],\n",
       "        [ 4.,  5.,  9.,  7.],\n",
       "        [ 8.,  9., 10., 11.]])"
      ]
     },
     "execution_count": 20,
     "metadata": {},
     "output_type": "execute_result"
    }
   ],
   "source": [
    "# Give it a new value in the position of row 1 column 2\n",
    "X[1, 2] = 9\n",
    "X"
   ]
  },
  {
   "cell_type": "code",
   "execution_count": 21,
   "id": "b215c91f-19ce-4277-9faa-836354bdecfa",
   "metadata": {},
   "outputs": [
    {
     "data": {
      "text/plain": [
       "tensor([[12., 12., 12., 12.],\n",
       "        [12., 12., 12., 12.],\n",
       "        [ 8.,  9., 10., 11.]])"
      ]
     },
     "execution_count": 21,
     "metadata": {},
     "output_type": "execute_result"
    }
   ],
   "source": [
    "# Assign a same value to a slice\n",
    "X[0:2, :] = 12\n",
    "X"
   ]
  },
  {
   "cell_type": "markdown",
   "id": "47e0d84f-1ef3-44c5-928a-247b03791606",
   "metadata": {},
   "source": [
    "## 2.5 Saving Memory"
   ]
  },
  {
   "cell_type": "code",
   "execution_count": 22,
   "id": "6c1274e9-ccfb-4cbb-9bd5-9737d1d09507",
   "metadata": {},
   "outputs": [
    {
     "data": {
      "text/plain": [
       "False"
      ]
     },
     "execution_count": 22,
     "metadata": {},
     "output_type": "execute_result"
    }
   ],
   "source": [
    "# id funtion returns the address of a variable\n",
    "before = id(Y)\n",
    "Y = Y + X\n",
    "# address has been changed. Y has been given a new address.\n",
    "id(Y) == before"
   ]
  },
  {
   "cell_type": "code",
   "execution_count": 27,
   "id": "e2a13a76-fac5-414c-af97-58d2ff7d4a5a",
   "metadata": {},
   "outputs": [
    {
     "name": "stdout",
     "output_type": "stream",
     "text": [
      "tensor([[0., 0., 0., 0.],\n",
      "        [0., 0., 0., 0.],\n",
      "        [0., 0., 0., 0.]])\n",
      "id(Z): 2783356041312\n",
      "id(Z): 2783356041312\n"
     ]
    }
   ],
   "source": [
    "# create a new matrix with the same shape as Y\n",
    "Z = torch.zeros_like(Y)\n",
    "print(Z)\n",
    "print('id(Z):', id(Z))\n",
    "# use inplace operation, doesn't change the address of Z\n",
    "Z[:] = X + Y\n",
    "print('id(Z):', id(Z))"
   ]
  },
  {
   "cell_type": "code",
   "execution_count": 28,
   "id": "ffdcf1eb-7159-4d39-9601-7b1ad5737ed9",
   "metadata": {},
   "outputs": [
    {
     "data": {
      "text/plain": [
       "True"
      ]
     },
     "execution_count": 28,
     "metadata": {},
     "output_type": "execute_result"
    }
   ],
   "source": [
    "before = id(X)\n",
    "# inplace operation\n",
    "X += Y\n",
    "id(X) == before"
   ]
  },
  {
   "cell_type": "markdown",
   "id": "86f28d85-b4ee-48e8-bf1a-3b95ae383449",
   "metadata": {},
   "source": [
    "## 2.6 Conversion to Other Python Objects"
   ]
  },
  {
   "cell_type": "code",
   "execution_count": 29,
   "id": "eeb8cff5-bf33-4dbc-a3cc-e1ebcd97c9a2",
   "metadata": {},
   "outputs": [
    {
     "data": {
      "text/plain": [
       "(numpy.ndarray, torch.Tensor)"
      ]
     },
     "execution_count": 29,
     "metadata": {},
     "output_type": "execute_result"
    }
   ],
   "source": [
    "# change variable class between \n",
    "# numpy (format usually used by codes that run in a cpu environment) \n",
    "# and torch tensor (format used by codes that run in a gpu environment)\n",
    "A = X.numpy()\n",
    "B = torch.from_numpy(A)\n",
    "type(A), type(B)"
   ]
  },
  {
   "cell_type": "code",
   "execution_count": 32,
   "id": "c87be3f4-f69c-4a8f-a751-e485bd4cbdf9",
   "metadata": {},
   "outputs": [
    {
     "data": {
      "text/plain": [
       "(3.5, 3)"
      ]
     },
     "execution_count": 32,
     "metadata": {},
     "output_type": "execute_result"
    }
   ],
   "source": [
    "a = torch.tensor([3.5])\n",
    "# Transformation between value and vector\n",
    "a, a.item()\n",
    "# Transformation between different data types\n",
    "float(a), int(a)"
   ]
  },
  {
   "cell_type": "markdown",
   "id": "91550037-b976-48c6-892c-ab6b558bb9a9",
   "metadata": {},
   "source": [
    "# 3. Data Preprocessing"
   ]
  },
  {
   "cell_type": "markdown",
   "id": "52e8ec04-3419-411f-b079-fc0da82c9a07",
   "metadata": {},
   "source": [
    "## 3.1 Reading the Dataset"
   ]
  },
  {
   "cell_type": "code",
   "execution_count": 34,
   "id": "232170dc-60e6-424b-ba11-37ac6a0875c4",
   "metadata": {},
   "outputs": [],
   "source": [
    "import os\n",
    "# \"./\" means the current folder\n",
    "# ./data\n",
    "os.makedirs(os.path.join('.', 'data'), exist_ok=True)\n",
    "# ./data/house_tiny.csv\n",
    "data_file = os.path.join('.', 'data', 'house_tiny.csv')\n",
    "# NA means missing data\n",
    "with open(data_file, 'w') as f:\n",
    " f.write('NumRooms,Viewed,Alley,Price\\n') # Column names\n",
    " f.write('NA,3,Pave,127500\\n') # Each row represents a data example\n",
    " f.write('2,3,NA,106000\\n')\n",
    " f.write('4,NA,NA,178100\\n')\n",
    " f.write('NA,3,NA,140000\\n')"
   ]
  },
  {
   "cell_type": "code",
   "execution_count": 35,
   "id": "00135ec0-0684-4a4d-a6be-ca3fd40152c3",
   "metadata": {},
   "outputs": [
    {
     "name": "stdout",
     "output_type": "stream",
     "text": [
      "   NumRooms  Viewed Alley   Price\n",
      "0       NaN     3.0  Pave  127500\n",
      "1       2.0     3.0   NaN  106000\n",
      "2       4.0     NaN   NaN  178100\n",
      "3       NaN     3.0   NaN  140000\n"
     ]
    }
   ],
   "source": [
    "# If pandas is not installed, just uncomment the following line:\n",
    "# !pip install pandas\n",
    "# pandas is usually used for data loading and processing\n",
    "import pandas as pd\n",
    "data = pd.read_csv(data_file)\n",
    "# NaN means missing data\n",
    "print(data)"
   ]
  },
  {
   "cell_type": "markdown",
   "id": "93bfc315-e2fb-4c59-89c5-679440962e3c",
   "metadata": {},
   "source": [
    "## 3.2 Handling Missing Data"
   ]
  },
  {
   "cell_type": "code",
   "execution_count": 36,
   "id": "436fc06b-603d-4222-ab3c-d3d306154a3f",
   "metadata": {},
   "outputs": [
    {
     "name": "stdout",
     "output_type": "stream",
     "text": [
      "   NumRooms  Viewed\n",
      "0       3.0     3.0\n",
      "1       2.0     3.0\n",
      "2       4.0     3.0\n",
      "3       3.0     3.0\n"
     ]
    }
   ],
   "source": [
    "a, b = data.iloc[:, :2], data.iloc[:, 2:]\n",
    "# fill the missing data with the given data (mean of each column)\n",
    "a = a.fillna(a.mean())\n",
    "print(a)"
   ]
  },
  {
   "cell_type": "code",
   "execution_count": 37,
   "id": "9a3ce077-a8b8-4ecb-82e3-4be524e7e52a",
   "metadata": {},
   "outputs": [
    {
     "name": "stdout",
     "output_type": "stream",
     "text": [
      "  Alley   Price\n",
      "0  Pave  127500\n",
      "1   NaN  106000\n",
      "2   NaN  178100\n",
      "3   NaN  140000\n"
     ]
    }
   ],
   "source": [
    "print(b)"
   ]
  },
  {
   "cell_type": "code",
   "execution_count": 38,
   "id": "ba79673e-d5a8-4a2a-8570-42a7dfe1440d",
   "metadata": {},
   "outputs": [
    {
     "name": "stdout",
     "output_type": "stream",
     "text": [
      "    Price  Alley_Pave  Alley_nan\n",
      "0  127500        True      False\n",
      "1  106000       False       True\n",
      "2  178100       False       True\n",
      "3  140000       False       True\n"
     ]
    }
   ],
   "source": [
    "# classify different category of strings, NaN is treated as one category\n",
    "b = pd.get_dummies(b, dummy_na=True)\n",
    "print(b)"
   ]
  },
  {
   "cell_type": "markdown",
   "id": "494a7404-5444-4fe8-a130-4f830bf19913",
   "metadata": {},
   "source": [
    "## 3.3 Conversion to the Tensor Format"
   ]
  },
  {
   "cell_type": "code",
   "execution_count": 39,
   "id": "7b2c48f7-ba9f-4513-b794-f4cb1375b83a",
   "metadata": {},
   "outputs": [
    {
     "data": {
      "text/plain": [
       "(tensor([[3., 3.],\n",
       "         [2., 3.],\n",
       "         [4., 3.],\n",
       "         [3., 3.]], dtype=torch.float64),\n",
       " tensor([[127500,      1,      0],\n",
       "         [106000,      0,      1],\n",
       "         [178100,      0,      1],\n",
       "         [140000,      0,      1]], dtype=torch.int32))"
      ]
     },
     "execution_count": 39,
     "metadata": {},
     "output_type": "execute_result"
    }
   ],
   "source": [
    "#convert to tensor format\n",
    "import torch\n",
    "X, y = torch.tensor(a.values), torch.tensor(b.values.astype(int))\n",
    "X, y"
   ]
  },
  {
   "cell_type": "code",
   "execution_count": null,
   "id": "2e2154b9-e72d-4311-9f51-1847e8e5a645",
   "metadata": {},
   "outputs": [],
   "source": []
  }
 ],
 "metadata": {
  "kernelspec": {
   "display_name": "8007",
   "language": "python",
   "name": "8007"
  },
  "language_info": {
   "codemirror_mode": {
    "name": "ipython",
    "version": 3
   },
   "file_extension": ".py",
   "mimetype": "text/x-python",
   "name": "python",
   "nbconvert_exporter": "python",
   "pygments_lexer": "ipython3",
   "version": "3.8.19"
  }
 },
 "nbformat": 4,
 "nbformat_minor": 5
}
