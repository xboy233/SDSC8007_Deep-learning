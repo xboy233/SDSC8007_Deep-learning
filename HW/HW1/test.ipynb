{
 "cells": [
  {
   "cell_type": "code",
   "execution_count": 6,
   "metadata": {},
   "outputs": [],
   "source": [
    "import torch\n",
    "import torch.nn as nn\n",
    "import numpy as np\n",
    "import csv"
   ]
  },
  {
   "cell_type": "code",
   "execution_count": 7,
   "metadata": {},
   "outputs": [
    {
     "data": {
      "text/plain": [
       "array([0.81461  , 0.8389952, 0.8978015, ..., 1.5926473, 1.6634515,\n",
       "       1.9039694])"
      ]
     },
     "execution_count": 7,
     "metadata": {},
     "output_type": "execute_result"
    }
   ],
   "source": [
    "train_path = './HW1.train.csv'  # path to training data\n",
    "with open(train_path, 'r') as f:\n",
    "    data = list(csv.reader(f))\n",
    "    data = np.array(data[1:])[:, 1:].astype(float)\n",
    "\n",
    "data[:, 40]"
   ]
  },
  {
   "cell_type": "code",
   "execution_count": 8,
   "metadata": {},
   "outputs": [
    {
     "data": {
      "text/plain": [
       "array([ 1.       ,  0.       ,  0.       ,  0.       ,  0.       ,\n",
       "        0.       ,  0.       ,  0.       ,  0.       ,  0.       ,\n",
       "        0.       ,  0.       ,  0.       ,  0.       ,  0.       ,\n",
       "        0.       ,  0.       ,  0.       ,  0.       ,  0.       ,\n",
       "        0.       ,  0.       ,  0.       ,  0.       ,  0.       ,\n",
       "        0.       ,  0.       ,  0.       ,  0.       ,  0.       ,\n",
       "        0.       ,  0.       ,  0.       ,  0.       ,  0.       ,\n",
       "        0.       ,  0.       ,  0.       ,  0.       ,  0.       ,\n",
       "        0.81461  ,  0.7713562, 25.6489069, 21.2420632, 19.586492 ,\n",
       "        0.8389952,  0.8077665, 25.6791006, 21.2802696, 20.1518381,\n",
       "        0.8978015,  0.8878931, 26.0605436, 21.5038315])"
      ]
     },
     "execution_count": 8,
     "metadata": {},
     "output_type": "execute_result"
    }
   ],
   "source": [
    "feats_sta = list(range(40))         # 40 states\n",
    "feats_symp1 = list(range(40,44))    # day1 symptom like Covid-19\n",
    "feats_testp1 = [57]                 # day2 tested_positive\n",
    "feats_symp2 = list(range(58,62))    # day2 symptom like Covid-19\n",
    "feats_testp2 = [75]                 # day2 tested_positive \n",
    "feats_symp3 = list(range(76,80))    # day3 symptom like Covid-19\n",
    "\n",
    "feats = feats_sta + feats_symp1 + feats_testp1 + feats_symp2 + feats_testp2 + feats_symp3\n",
    "\n",
    "target = data[:, -1]\n",
    "data_train = data[:, feats]\n",
    "data_train[0]"
   ]
  },
  {
   "cell_type": "code",
   "execution_count": 9,
   "metadata": {},
   "outputs": [
    {
     "data": {
      "text/plain": [
       "array([ 1.       ,  0.       ,  0.       ,  0.       ,  0.       ,\n",
       "        0.       ,  0.       ,  0.       ,  0.       ,  0.       ,\n",
       "        0.       ,  0.       ,  0.       ,  0.       ,  0.       ,\n",
       "        0.       ,  0.       ,  0.       ,  0.       ,  0.       ,\n",
       "        0.       ,  0.       ,  0.       ,  0.       ,  0.       ,\n",
       "        0.       ,  0.       ,  0.       ,  0.       ,  0.       ,\n",
       "        0.       ,  0.       ,  0.       ,  0.       ,  0.       ,\n",
       "        0.       ,  0.       ,  0.       ,  0.       ,  0.       ,\n",
       "        0.81461  ,  0.7713562, 25.6489069, 21.2420632, 19.586492 ,\n",
       "        0.8389952,  0.8077665, 25.6791006, 21.2802696, 20.1518381,\n",
       "        0.8978015,  0.8878931, 26.0605436, 21.5038315])"
      ]
     },
     "execution_count": 9,
     "metadata": {},
     "output_type": "execute_result"
    }
   ],
   "source": [
    "feats_test = [f+1 for f in feats]\n",
    "data_test = data[:, feats]\n",
    "\n",
    "data_test_row1 = data_test[0]\n",
    "data_test_row1"
   ]
  },
  {
   "cell_type": "code",
   "execution_count": null,
   "metadata": {},
   "outputs": [],
   "source": []
  },
  {
   "cell_type": "code",
   "execution_count": null,
   "metadata": {},
   "outputs": [],
   "source": []
  },
  {
   "cell_type": "code",
   "execution_count": null,
   "metadata": {},
   "outputs": [],
   "source": []
  }
 ],
 "metadata": {
  "kernelspec": {
   "display_name": "8007",
   "language": "python",
   "name": "python3"
  },
  "language_info": {
   "codemirror_mode": {
    "name": "ipython",
    "version": 3
   },
   "file_extension": ".py",
   "mimetype": "text/x-python",
   "name": "python",
   "nbconvert_exporter": "python",
   "pygments_lexer": "ipython3",
   "version": "3.8.19"
  }
 },
 "nbformat": 4,
 "nbformat_minor": 2
}
